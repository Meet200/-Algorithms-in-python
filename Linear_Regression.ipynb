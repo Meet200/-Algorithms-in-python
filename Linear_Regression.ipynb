{
  "nbformat": 4,
  "nbformat_minor": 0,
  "metadata": {
    "colab": {
      "name": "Linear_Regression.ipynb",
      "provenance": [],
      "collapsed_sections": [],
      "authorship_tag": "ABX9TyOV+OP1pfptLD6vwaqRuguw",
      "include_colab_link": true
    },
    "kernelspec": {
      "name": "python3",
      "display_name": "Python 3"
    }
  },
  "cells": [
    {
      "cell_type": "markdown",
      "metadata": {
        "id": "view-in-github",
        "colab_type": "text"
      },
      "source": [
        "<a href=\"https://colab.research.google.com/github/Meet200/-Algorithms-in-python/blob/master/Linear_Regression.ipynb\" target=\"_parent\"><img src=\"https://colab.research.google.com/assets/colab-badge.svg\" alt=\"Open In Colab\"/></a>"
      ]
    },
    {
      "cell_type": "code",
      "metadata": {
        "id": "1u09VHoxgpof"
      },
      "source": [
        "#find the relation between size of house and price"
      ],
      "execution_count": null,
      "outputs": []
    },
    {
      "cell_type": "code",
      "metadata": {
        "id": "JYvkQNjpryIp"
      },
      "source": [
        "import numpy as np\r\n",
        "import matplotlib.pyplot as plt\r\n",
        "import pandas as pd\r\n"
      ],
      "execution_count": 247,
      "outputs": []
    },
    {
      "cell_type": "code",
      "metadata": {
        "id": "WQ7k4Mrvr7n2"
      },
      "source": [
        "from google.colab import drive"
      ],
      "execution_count": 248,
      "outputs": []
    },
    {
      "cell_type": "code",
      "metadata": {
        "colab": {
          "base_uri": "https://localhost:8080/"
        },
        "id": "d3qtikI6r_-H",
        "outputId": "b0eb7a93-0e9a-4a0d-bf48-4f357dc7e9ab"
      },
      "source": [
        "drive.mount('/content/drive')"
      ],
      "execution_count": 249,
      "outputs": [
        {
          "output_type": "stream",
          "text": [
            "Drive already mounted at /content/drive; to attempt to forcibly remount, call drive.mount(\"/content/drive\", force_remount=True).\n"
          ],
          "name": "stdout"
        }
      ]
    },
    {
      "cell_type": "code",
      "metadata": {
        "colab": {
          "base_uri": "https://localhost:8080/"
        },
        "id": "LRShLy9wsHd4",
        "outputId": "98f03fce-5a81-42f8-8740-623090d7099c"
      },
      "source": [
        "cd /content/drive/\"My Drive/Colab Notebooks/Linear regression\""
      ],
      "execution_count": 250,
      "outputs": [
        {
          "output_type": "stream",
          "text": [
            "/content/drive/My Drive/Colab Notebooks/Linear regression\n"
          ],
          "name": "stdout"
        }
      ]
    },
    {
      "cell_type": "code",
      "metadata": {
        "colab": {
          "base_uri": "https://localhost:8080/"
        },
        "id": "AABsvwWXs5uN",
        "outputId": "8897a9d4-9c3f-441f-f4ea-59bd39e9d618"
      },
      "source": [
        "#column name = ['x','y']\r\n",
        "dataset = pd.read_csv(\"train.csv\")\r\n",
        "print(dataset)\r\n",
        "dataset.shape"
      ],
      "execution_count": 252,
      "outputs": [
        {
          "output_type": "stream",
          "text": [
            "        x          y\n",
            "0    24.0  21.549452\n",
            "1    50.0  47.464463\n",
            "2    15.0  17.218656\n",
            "3    38.0  36.586398\n",
            "4    87.0  87.288984\n",
            "..    ...        ...\n",
            "695  58.0  58.595006\n",
            "696  93.0  94.625094\n",
            "697  82.0  88.603770\n",
            "698  66.0  63.648685\n",
            "699  97.0  94.975266\n",
            "\n",
            "[700 rows x 2 columns]\n"
          ],
          "name": "stdout"
        },
        {
          "output_type": "execute_result",
          "data": {
            "text/plain": [
              "(700, 2)"
            ]
          },
          "metadata": {
            "tags": []
          },
          "execution_count": 252
        }
      ]
    },
    {
      "cell_type": "code",
      "metadata": {
        "colab": {
          "base_uri": "https://localhost:8080/",
          "height": 300
        },
        "id": "9PbbI_wBuvtY",
        "outputId": "68f3ae80-a5cd-4513-fcd9-c68b8c6fb613"
      },
      "source": [
        "dataf = pd.DataFrame(dataset)\r\n",
        "dataf.describe()"
      ],
      "execution_count": 253,
      "outputs": [
        {
          "output_type": "execute_result",
          "data": {
            "text/html": [
              "<div>\n",
              "<style scoped>\n",
              "    .dataframe tbody tr th:only-of-type {\n",
              "        vertical-align: middle;\n",
              "    }\n",
              "\n",
              "    .dataframe tbody tr th {\n",
              "        vertical-align: top;\n",
              "    }\n",
              "\n",
              "    .dataframe thead th {\n",
              "        text-align: right;\n",
              "    }\n",
              "</style>\n",
              "<table border=\"1\" class=\"dataframe\">\n",
              "  <thead>\n",
              "    <tr style=\"text-align: right;\">\n",
              "      <th></th>\n",
              "      <th>x</th>\n",
              "      <th>y</th>\n",
              "    </tr>\n",
              "  </thead>\n",
              "  <tbody>\n",
              "    <tr>\n",
              "      <th>count</th>\n",
              "      <td>700.000000</td>\n",
              "      <td>699.000000</td>\n",
              "    </tr>\n",
              "    <tr>\n",
              "      <th>mean</th>\n",
              "      <td>54.985939</td>\n",
              "      <td>49.939869</td>\n",
              "    </tr>\n",
              "    <tr>\n",
              "      <th>std</th>\n",
              "      <td>134.681703</td>\n",
              "      <td>29.109217</td>\n",
              "    </tr>\n",
              "    <tr>\n",
              "      <th>min</th>\n",
              "      <td>0.000000</td>\n",
              "      <td>-3.839981</td>\n",
              "    </tr>\n",
              "    <tr>\n",
              "      <th>25%</th>\n",
              "      <td>25.000000</td>\n",
              "      <td>24.929968</td>\n",
              "    </tr>\n",
              "    <tr>\n",
              "      <th>50%</th>\n",
              "      <td>49.000000</td>\n",
              "      <td>48.973020</td>\n",
              "    </tr>\n",
              "    <tr>\n",
              "      <th>75%</th>\n",
              "      <td>75.000000</td>\n",
              "      <td>74.929911</td>\n",
              "    </tr>\n",
              "    <tr>\n",
              "      <th>max</th>\n",
              "      <td>3530.157369</td>\n",
              "      <td>108.871618</td>\n",
              "    </tr>\n",
              "  </tbody>\n",
              "</table>\n",
              "</div>"
            ],
            "text/plain": [
              "                 x           y\n",
              "count   700.000000  699.000000\n",
              "mean     54.985939   49.939869\n",
              "std     134.681703   29.109217\n",
              "min       0.000000   -3.839981\n",
              "25%      25.000000   24.929968\n",
              "50%      49.000000   48.973020\n",
              "75%      75.000000   74.929911\n",
              "max    3530.157369  108.871618"
            ]
          },
          "metadata": {
            "tags": []
          },
          "execution_count": 253
        }
      ]
    },
    {
      "cell_type": "code",
      "metadata": {
        "id": "XnEk4HI0tha5"
      },
      "source": [
        "x_value = dataf.iloc[0:700,0:1]"
      ],
      "execution_count": 254,
      "outputs": []
    },
    {
      "cell_type": "code",
      "metadata": {
        "id": "LJRl2JUZwJbX"
      },
      "source": [
        "y_value = dataf.iloc[0:700,1:2]"
      ],
      "execution_count": 255,
      "outputs": []
    },
    {
      "cell_type": "code",
      "metadata": {
        "colab": {
          "base_uri": "https://localhost:8080/",
          "height": 424
        },
        "id": "lCbtGDM-wi2l",
        "outputId": "58d87f1f-63c8-438a-ea38-58992b2a65ea"
      },
      "source": [
        "x_value"
      ],
      "execution_count": 256,
      "outputs": [
        {
          "output_type": "execute_result",
          "data": {
            "text/html": [
              "<div>\n",
              "<style scoped>\n",
              "    .dataframe tbody tr th:only-of-type {\n",
              "        vertical-align: middle;\n",
              "    }\n",
              "\n",
              "    .dataframe tbody tr th {\n",
              "        vertical-align: top;\n",
              "    }\n",
              "\n",
              "    .dataframe thead th {\n",
              "        text-align: right;\n",
              "    }\n",
              "</style>\n",
              "<table border=\"1\" class=\"dataframe\">\n",
              "  <thead>\n",
              "    <tr style=\"text-align: right;\">\n",
              "      <th></th>\n",
              "      <th>x</th>\n",
              "    </tr>\n",
              "  </thead>\n",
              "  <tbody>\n",
              "    <tr>\n",
              "      <th>0</th>\n",
              "      <td>24.0</td>\n",
              "    </tr>\n",
              "    <tr>\n",
              "      <th>1</th>\n",
              "      <td>50.0</td>\n",
              "    </tr>\n",
              "    <tr>\n",
              "      <th>2</th>\n",
              "      <td>15.0</td>\n",
              "    </tr>\n",
              "    <tr>\n",
              "      <th>3</th>\n",
              "      <td>38.0</td>\n",
              "    </tr>\n",
              "    <tr>\n",
              "      <th>4</th>\n",
              "      <td>87.0</td>\n",
              "    </tr>\n",
              "    <tr>\n",
              "      <th>...</th>\n",
              "      <td>...</td>\n",
              "    </tr>\n",
              "    <tr>\n",
              "      <th>695</th>\n",
              "      <td>58.0</td>\n",
              "    </tr>\n",
              "    <tr>\n",
              "      <th>696</th>\n",
              "      <td>93.0</td>\n",
              "    </tr>\n",
              "    <tr>\n",
              "      <th>697</th>\n",
              "      <td>82.0</td>\n",
              "    </tr>\n",
              "    <tr>\n",
              "      <th>698</th>\n",
              "      <td>66.0</td>\n",
              "    </tr>\n",
              "    <tr>\n",
              "      <th>699</th>\n",
              "      <td>97.0</td>\n",
              "    </tr>\n",
              "  </tbody>\n",
              "</table>\n",
              "<p>700 rows × 1 columns</p>\n",
              "</div>"
            ],
            "text/plain": [
              "        x\n",
              "0    24.0\n",
              "1    50.0\n",
              "2    15.0\n",
              "3    38.0\n",
              "4    87.0\n",
              "..    ...\n",
              "695  58.0\n",
              "696  93.0\n",
              "697  82.0\n",
              "698  66.0\n",
              "699  97.0\n",
              "\n",
              "[700 rows x 1 columns]"
            ]
          },
          "metadata": {
            "tags": []
          },
          "execution_count": 256
        }
      ]
    },
    {
      "cell_type": "code",
      "metadata": {
        "colab": {
          "base_uri": "https://localhost:8080/",
          "height": 424
        },
        "id": "XQ9zlldwwnPw",
        "outputId": "a99236ea-94fc-4f3f-96d0-9950ad4d490e"
      },
      "source": [
        "y_value"
      ],
      "execution_count": 257,
      "outputs": [
        {
          "output_type": "execute_result",
          "data": {
            "text/html": [
              "<div>\n",
              "<style scoped>\n",
              "    .dataframe tbody tr th:only-of-type {\n",
              "        vertical-align: middle;\n",
              "    }\n",
              "\n",
              "    .dataframe tbody tr th {\n",
              "        vertical-align: top;\n",
              "    }\n",
              "\n",
              "    .dataframe thead th {\n",
              "        text-align: right;\n",
              "    }\n",
              "</style>\n",
              "<table border=\"1\" class=\"dataframe\">\n",
              "  <thead>\n",
              "    <tr style=\"text-align: right;\">\n",
              "      <th></th>\n",
              "      <th>y</th>\n",
              "    </tr>\n",
              "  </thead>\n",
              "  <tbody>\n",
              "    <tr>\n",
              "      <th>0</th>\n",
              "      <td>21.549452</td>\n",
              "    </tr>\n",
              "    <tr>\n",
              "      <th>1</th>\n",
              "      <td>47.464463</td>\n",
              "    </tr>\n",
              "    <tr>\n",
              "      <th>2</th>\n",
              "      <td>17.218656</td>\n",
              "    </tr>\n",
              "    <tr>\n",
              "      <th>3</th>\n",
              "      <td>36.586398</td>\n",
              "    </tr>\n",
              "    <tr>\n",
              "      <th>4</th>\n",
              "      <td>87.288984</td>\n",
              "    </tr>\n",
              "    <tr>\n",
              "      <th>...</th>\n",
              "      <td>...</td>\n",
              "    </tr>\n",
              "    <tr>\n",
              "      <th>695</th>\n",
              "      <td>58.595006</td>\n",
              "    </tr>\n",
              "    <tr>\n",
              "      <th>696</th>\n",
              "      <td>94.625094</td>\n",
              "    </tr>\n",
              "    <tr>\n",
              "      <th>697</th>\n",
              "      <td>88.603770</td>\n",
              "    </tr>\n",
              "    <tr>\n",
              "      <th>698</th>\n",
              "      <td>63.648685</td>\n",
              "    </tr>\n",
              "    <tr>\n",
              "      <th>699</th>\n",
              "      <td>94.975266</td>\n",
              "    </tr>\n",
              "  </tbody>\n",
              "</table>\n",
              "<p>700 rows × 1 columns</p>\n",
              "</div>"
            ],
            "text/plain": [
              "             y\n",
              "0    21.549452\n",
              "1    47.464463\n",
              "2    17.218656\n",
              "3    36.586398\n",
              "4    87.288984\n",
              "..         ...\n",
              "695  58.595006\n",
              "696  94.625094\n",
              "697  88.603770\n",
              "698  63.648685\n",
              "699  94.975266\n",
              "\n",
              "[700 rows x 1 columns]"
            ]
          },
          "metadata": {
            "tags": []
          },
          "execution_count": 257
        }
      ]
    },
    {
      "cell_type": "code",
      "metadata": {
        "colab": {
          "base_uri": "https://localhost:8080/",
          "height": 265
        },
        "id": "yvq3ELxKxy4P",
        "outputId": "da451615-58ad-4bce-a7cb-f7d75801c971"
      },
      "source": [
        "x_box=x_value.boxplot(column=['x'])"
      ],
      "execution_count": 258,
      "outputs": [
        {
          "output_type": "display_data",
          "data": {
            "image/png": "[encoded data removed]",
            "text/plain": [
              "<Figure size 432x288 with 1 Axes>"
            ]
          },
          "metadata": {
            "tags": [],
            "needs_background": "light"
          }
        }
      ]
    },
    {
      "cell_type": "code",
      "metadata": {
        "id": "v9MdsOsLyDHx",
        "colab": {
          "base_uri": "https://localhost:8080/",
          "height": 265
        },
        "cellView": "code",
        "outputId": "7031fa9b-6014-4b1b-8270-716f1588060f"
      },
      "source": [
        "#@title Default title text\n",
        "y_box=y_value.boxplot(column=['y'])"
      ],
      "execution_count": 259,
      "outputs": [
        {
          "output_type": "display_data",
          "data": {
            "image/png": "[encoded data removed]",
            "text/plain": [
              "<Figure size 432x288 with 1 Axes>"
            ]
          },
          "metadata": {
            "tags": [],
            "needs_background": "light"
          }
        }
      ]
    },
    {
      "cell_type": "code",
      "metadata": {
        "id": "6pEnQmhQkCuk",
        "colab": {
          "base_uri": "https://localhost:8080/",
          "height": 313
        },
        "outputId": "2e5fe5f9-b162-48b2-9f31-d4a90a5848f9"
      },
      "source": [
        "import matplotlib.pyplot as plt\r\n",
        "plt.scatter(x_value,y_value)\r\n",
        "plt.xticks(np.arange(5,100,step=10))\r\n",
        "plt.yticks(np.arange(-5,100,step=10))\r\n",
        "plt.xlabel(\"x-value\")\r\n",
        "plt.ylabel(\"y-value\")\r\n",
        "plt.title(\"1st LR Scatter plot \")"
      ],
      "execution_count": 260,
      "outputs": [
        {
          "output_type": "execute_result",
          "data": {
            "text/plain": [
              "Text(0.5, 1.0, '1st LR Scatter plot ')"
            ]
          },
          "metadata": {
            "tags": []
          },
          "execution_count": 260
        },
        {
          "output_type": "display_data",
          "data": {
            "image/png": "[encoded data removed]",
            "text/plain": [
              "<Figure size 432x288 with 1 Axes>"
            ]
          },
          "metadata": {
            "tags": [],
            "needs_background": "light"
          }
        }
      ]
    },
    {
      "cell_type": "code",
      "metadata": {
        "id": "9ARqvNWAo5Mr"
      },
      "source": [
        "#define hypothesis  H(x) = theta_array[0]+theta_array[1]*x\r\n",
        "def hypothesis(theta_array,x):  #theta_array =[theta_array[0],theta_araay[1]]\r\n",
        "  return theta_array[0] + theta_array[1]*x\r\n",
        "\r\n"
      ],
      "execution_count": 261,
      "outputs": []
    },
    {
      "cell_type": "code",
      "metadata": {
        "id": "MLjQKzr5qebP"
      },
      "source": [
        "def cost_function(theta_array, x_value, y_value, m):\r\n",
        "    # This function returns our cost function value at particular theta values\r\n",
        "    total_error = 0\r\n",
        "    for i in range(m):\r\n",
        "        total_error += (theta_array[0] + theta_array[1]*x_value[i] - y_value[i])**2\r\n",
        "    return total_error/(2*m)"
      ],
      "execution_count": 262,
      "outputs": []
    },
    {
      "cell_type": "code",
      "metadata": {
        "id": "OZrhf9y5r7hP"
      },
      "source": [
        "def gradient_descent(theta_array,x,y,alpha,m):\r\n",
        "    summation_theta0 = 0\r\n",
        "    summation_theta1 = 0\r\n",
        "\r\n",
        "    for i in range(m):\r\n",
        "        summation_theta0+=((theta_array[0]+theta_array[1]*x[i]) - y[i])\r\n",
        "        summation_theta1+=(((theta_array[0]+theta_array[1]*x[i]) - y[i])*x[i])\r\n",
        "\r\n",
        "    new_theta0 = theta_array[0]-alpha*(summation_theta0/m)\r\n",
        "    new_theta1 = theta_array[1]-alpha*(summation_theta1/m)\r\n",
        "\r\n",
        "    updated_theta_array = [new_theta0,new_theta1]\r\n",
        "    print(updated_theta_array)\r\n",
        "    return updated_theta_array\r\n"
      ],
      "execution_count": 267,
      "outputs": []
    },
    {
      "cell_type": "code",
      "metadata": {
        "id": "70oTFZSzuwI2"
      },
      "source": [
        "def training(x,y,alpha,iters):\r\n",
        "    theta_0 = 0\r\n",
        "    theta_1 = 0\r\n",
        "    theta_array = [theta_0,theta_1]\r\n",
        "\r\n",
        "    m=x.size                #size of the data set or the number of observation\r\n",
        "    cost_function_values = []\r\n",
        "    for i in range(iters):\r\n",
        "        theta_array = gradient_descent(theta_array,x,y,alpha,m)     #taking the new theta's\r\n",
        "        cost_function_values.append(cost_function(theta_array,x,y,m))   #taking all the cost function values and storing\r\n",
        "        if(i%6==0):\r\n",
        "            y_new=x*theta_array[1]+theta_array[0]       #linear regression line\r\n",
        "            plt.plot(x,y_new,'r')\r\n",
        "            plt.scatter(x,y)\r\n",
        "            plt.show()\r\n",
        "\r\n",
        "    x=np.arange(0,len(cost_function_values),step=1)\r\n",
        "    plt.plot(x,cost_function_values,\"-b\")\r\n",
        "    plt.xlabel(\"number of iteration\")\r\n",
        "    plt.ylabel(\"Cost/loss values\")\r\n",
        "    plt.title(\"cost Function curve\")\r\n",
        "    plt.show()"
      ],
      "execution_count": 266,
      "outputs": []
    },
    {
      "cell_type": "code",
      "metadata": {
        "colab": {
          "base_uri": "https://localhost:8080/",
          "height": 424
        },
        "id": "XWAZFipLw5xs",
        "outputId": "44215858-150b-41d6-8ac0-44584e2b91d4"
      },
      "source": [
        "training_data=pd.read_csv(\"train.csv\")\r\n",
        "cleaning_data = training_data.dropna()   # drops the observation for not a number\r\n",
        "cleaning_data"
      ],
      "execution_count": null,
      "outputs": [
        {
          "output_type": "execute_result",
          "data": {
            "text/html": [
              "<div>\n",
              "<style scoped>\n",
              "    .dataframe tbody tr th:only-of-type {\n",
              "        vertical-align: middle;\n",
              "    }\n",
              "\n",
              "    .dataframe tbody tr th {\n",
              "        vertical-align: top;\n",
              "    }\n",
              "\n",
              "    .dataframe thead th {\n",
              "        text-align: right;\n",
              "    }\n",
              "</style>\n",
              "<table border=\"1\" class=\"dataframe\">\n",
              "  <thead>\n",
              "    <tr style=\"text-align: right;\">\n",
              "      <th></th>\n",
              "      <th>x</th>\n",
              "      <th>y</th>\n",
              "    </tr>\n",
              "  </thead>\n",
              "  <tbody>\n",
              "    <tr>\n",
              "      <th>0</th>\n",
              "      <td>24.0</td>\n",
              "      <td>21.549452</td>\n",
              "    </tr>\n",
              "    <tr>\n",
              "      <th>1</th>\n",
              "      <td>50.0</td>\n",
              "      <td>47.464463</td>\n",
              "    </tr>\n",
              "    <tr>\n",
              "      <th>2</th>\n",
              "      <td>15.0</td>\n",
              "      <td>17.218656</td>\n",
              "    </tr>\n",
              "    <tr>\n",
              "      <th>3</th>\n",
              "      <td>38.0</td>\n",
              "      <td>36.586398</td>\n",
              "    </tr>\n",
              "    <tr>\n",
              "      <th>4</th>\n",
              "      <td>87.0</td>\n",
              "      <td>87.288984</td>\n",
              "    </tr>\n",
              "    <tr>\n",
              "      <th>...</th>\n",
              "      <td>...</td>\n",
              "      <td>...</td>\n",
              "    </tr>\n",
              "    <tr>\n",
              "      <th>695</th>\n",
              "      <td>58.0</td>\n",
              "      <td>58.595006</td>\n",
              "    </tr>\n",
              "    <tr>\n",
              "      <th>696</th>\n",
              "      <td>93.0</td>\n",
              "      <td>94.625094</td>\n",
              "    </tr>\n",
              "    <tr>\n",
              "      <th>697</th>\n",
              "      <td>82.0</td>\n",
              "      <td>88.603770</td>\n",
              "    </tr>\n",
              "    <tr>\n",
              "      <th>698</th>\n",
              "      <td>66.0</td>\n",
              "      <td>63.648685</td>\n",
              "    </tr>\n",
              "    <tr>\n",
              "      <th>699</th>\n",
              "      <td>97.0</td>\n",
              "      <td>94.975266</td>\n",
              "    </tr>\n",
              "  </tbody>\n",
              "</table>\n",
              "<p>699 rows × 2 columns</p>\n",
              "</div>"
            ],
            "text/plain": [
              "        x          y\n",
              "0    24.0  21.549452\n",
              "1    50.0  47.464463\n",
              "2    15.0  17.218656\n",
              "3    38.0  36.586398\n",
              "4    87.0  87.288984\n",
              "..    ...        ...\n",
              "695  58.0  58.595006\n",
              "696  93.0  94.625094\n",
              "697  82.0  88.603770\n",
              "698  66.0  63.648685\n",
              "699  97.0  94.975266\n",
              "\n",
              "[699 rows x 2 columns]"
            ]
          },
          "metadata": {
            "tags": []
          },
          "execution_count": 241
        }
      ]
    },
    {
      "cell_type": "code",
      "metadata": {
        "id": "vktbrc_cxt3e"
      },
      "source": [
        "x_train=cleaning_data['x']"
      ],
      "execution_count": null,
      "outputs": []
    },
    {
      "cell_type": "code",
      "metadata": {
        "id": "mdETXoRhx5m6"
      },
      "source": [
        "y_train=cleaning_data['y']"
      ],
      "execution_count": null,
      "outputs": []
    },
    {
      "cell_type": "code",
      "metadata": {
        "colab": {
          "base_uri": "https://localhost:8080/"
        },
        "id": "FGcPPNYux-dq",
        "outputId": "3c847ee7-bc83-4731-b7b6-afcf21dc0539"
      },
      "source": [
        "x_value = x_train.values.reshape(x_train.size)\r\n",
        "x_value.shape"
      ],
      "execution_count": 272,
      "outputs": [
        {
          "output_type": "execute_result",
          "data": {
            "text/plain": [
              "(699,)"
            ]
          },
          "metadata": {
            "tags": []
          },
          "execution_count": 272
        }
      ]
    },
    {
      "cell_type": "code",
      "metadata": {
        "colab": {
          "base_uri": "https://localhost:8080/"
        },
        "id": "DWUSq-4kyDgx",
        "outputId": "c9f62405-b6c0-48c3-8046-7b04c1f6e406"
      },
      "source": [
        "y_value = y_train.values.reshape(y_train.size)\r\n",
        "y_value.shape"
      ],
      "execution_count": 273,
      "outputs": [
        {
          "output_type": "execute_result",
          "data": {
            "text/plain": [
              "(699,)"
            ]
          },
          "metadata": {
            "tags": []
          },
          "execution_count": 273
        }
      ]
    },
    {
      "cell_type": "code",
      "metadata": {
        "colab": {
          "base_uri": "https://localhost:8080/",
          "height": 1000
        },
        "id": "la3GlIx2yEPg",
        "outputId": "86b87870-c3e8-463d-abb9-435ffdccff58"
      },
      "source": [
        "alpha=0.0001\r\n",
        "iter=50\r\n",
        "#training(x_value,y_value,alpha,iter)\r\n",
        "training(x_value,y_value,alpha,iter)"
      ],
      "execution_count": 275,
      "outputs": [
        {
          "output_type": "stream",
          "text": [
            "[0.004993986917045777, 0.33354245845185393]\n"
          ],
          "name": "stdout"
        },
        {
          "output_type": "display_data",
          "data": {
            "image/png": "[encoded data removed]",
            "text/plain": [
              "<Figure size 432x288 with 1 Axes>"
            ]
          },
          "metadata": {
            "tags": [],
            "needs_background": "light"
          }
        },
        {
          "output_type": "stream",
          "text": [
            "[0.008319284972241507, 0.5557035214498389]\n",
            "[0.010533127355656105, 0.7036773052035968]\n",
            "[0.012006667742524584, 0.802237518771347]\n",
            "[0.012987118705779474, 0.8678850693676076]\n",
            "[0.01363913995457534, 0.9116106382126297]\n",
            "[0.01407240560255935, 0.9407347363616418]\n"
          ],
          "name": "stdout"
        },
        {
          "output_type": "display_data",
          "data": {
            "image/png": "[encoded data removed]",
            "text/plain": [
              "<Figure size 432x288 with 1 Axes>"
            ]
          },
          "metadata": {
            "tags": [],
            "needs_background": "light"
          }
        },
        {
          "output_type": "stream",
          "text": [
            "[0.014359965767857034, 0.9601333019877012]\n",
            "[0.014550476597125737, 0.9730540281668936]\n",
            "[0.014676346259828743, 0.9816600904650489]\n",
            "[0.01475916071211147, 0.9873923049996323]\n",
            "[0.014813297609683014, 0.9912103493470457]\n",
            "[0.01484833340967559, 0.993753431411396]\n"
          ],
          "name": "stdout"
        },
        {
          "output_type": "display_data",
          "data": {
            "image/png": "[encoded data removed]",
            "text/plain": [
              "<Figure size 432x288 with 1 Axes>"
            ]
          },
          "metadata": {
            "tags": [],
            "needs_background": "light"
          }
        },
        {
          "output_type": "stream",
          "text": [
            "[0.01487064665759465, 0.9954473053779638]\n",
            "[0.014884485881074296, 0.9965755513231513]\n",
            "[0.014892680876819898, 0.9973270520871346]\n",
            "[0.01489711647413762, 0.9978276159698669]\n",
            "[0.014899048092367667, 0.9981610395106341]\n",
            "[0.014899311922731282, 0.9983831366740062]\n"
          ],
          "name": "stdout"
        },
        {
          "output_type": "display_data",
          "data": {
            "image/png": "[encoded data removed]",
            "text/plain": [
              "<Figure size 432x288 with 1 Axes>"
            ]
          },
          "metadata": {
            "tags": [],
            "needs_background": "light"
          }
        },
        {
          "output_type": "stream",
          "text": [
            "[0.01489846492315943, 0.9985310832033687]\n",
            "[0.014896878063986173, 0.9986296405702794]\n",
            "[0.014894798435666618, 0.9986953015309791]\n",
            "[0.01489239061657083, 0.9987390513376072]\n",
            "[0.014889764226634673, 0.9987682068850972]\n",
            "[0.014886992279889691, 0.9987876417030486]\n"
          ],
          "name": "stdout"
        },
        {
          "output_type": "display_data",
          "data": {
            "image/png": "[encoded data removed]",
            "text/plain": [
              "<Figure size 432x288 with 1 Axes>"
            ]
          },
          "metadata": {
            "tags": [],
            "needs_background": "light"
          }
        },
        {
          "output_type": "stream",
          "text": [
            "[0.014884123408445882, 0.9988006018802705]\n",
            "[0.014881190004462082, 0.9988092495237824]\n",
            "[0.014878213643229672, 0.9988150247379799]\n",
            "[0.014875208695300289, 0.9988188867263863]\n",
            "[0.014872184732398647, 0.9988214743811554]\n",
            "[0.014869148129917511, 0.9988232132461622]\n"
          ],
          "name": "stdout"
        },
        {
          "output_type": "display_data",
          "data": {
            "image/png": "[encoded data removed]",
            "text/plain": [
              "<Figure size 432x288 with 1 Axes>"
            ]
          },
          "metadata": {
            "tags": [],
            "needs_background": "light"
          }
        },
        {
          "output_type": "stream",
          "text": [
            "[0.014866103134283944, 0.9988243867614027]\n",
            "[0.014863052573894888, 0.9988251837164145]\n",
            "[0.014859998332646675, 0.9988257298573517]\n",
            "[0.014856941665336583, 0.9988261089393607]\n",
            "[0.014853883407740857, 0.9988263767488356]\n",
            "[0.014850824116540384, 0.998826570443156]\n"
          ],
          "name": "stdout"
        },
        {
          "output_type": "display_data",
          "data": {
            "image/png": "[encoded data removed]",
            "text/plain": [
              "<Figure size 432x288 with 1 Axes>"
            ]
          },
          "metadata": {
            "tags": [],
            "needs_background": "light"
          }
        },
        {
          "output_type": "stream",
          "text": [
            "[0.014847764162520326, 0.9988267147715622]\n",
            "[0.014844703792647162, 0.9988268262186631]\n",
            "[0.014841643171416043, 0.998826915764285]\n",
            "[0.014838582408390833, 0.9988269907217081]\n",
            "[0.014835521576547574, 0.9988270559620549]\n",
            "[0.014832460724492432, 0.9988271147298107]\n"
          ],
          "name": "stdout"
        },
        {
          "output_type": "display_data",
          "data": {
            "image/png": "[encoded data removed]",
            "text/plain": [
              "<Figure size 432x288 with 1 Axes>"
            ]
          },
          "metadata": {
            "tags": [],
            "needs_background": "light"
          }
        },
        {
          "output_type": "stream",
          "text": [
            "[0.014829399884599642, 0.9988271691860144]\n",
            "[0.014826339078431916, 0.9988272207700593]\n",
            "[0.014823278320350786, 0.9988272704406749]\n",
            "[0.014820217619921328, 0.9988273188364378]\n",
            "[0.01481715698351386, 0.9988273663826819]\n",
            "[0.014814096415370794, 0.9988274133627071]\n"
          ],
          "name": "stdout"
        },
        {
          "output_type": "display_data",
          "data": {
            "image/png": "[encoded data removed]",
            "text/plain": [
              "<Figure size 432x288 with 1 Axes>"
            ]
          },
          "metadata": {
            "tags": [],
            "needs_background": "light"
          }
        },
        {
          "output_type": "stream",
          "text": [
            "[0.014811035918317205, 0.9988274599652097]\n"
          ],
          "name": "stdout"
        },
        {
          "output_type": "display_data",
          "data": {
            "image/png": "[encoded data removed]",
            "text/plain": [
              "<Figure size 432x288 with 1 Axes>"
            ]
          },
          "metadata": {
            "tags": [],
            "needs_background": "light"
          }
        }
      ]
    }
  ]
}