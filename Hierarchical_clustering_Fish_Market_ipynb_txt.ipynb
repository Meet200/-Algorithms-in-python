{
  "nbformat": 4,
  "nbformat_minor": 0,
  "metadata": {
    "colab": {
      "name": "Hierarchical_clustering_Fish_Market.ipynb.txt",
      "provenance": [],
      "include_colab_link": true
    },
    "kernelspec": {
      "name": "python3",
      "display_name": "Python 3"
    }
  },
  "cells": [
    {
      "cell_type": "markdown",
      "metadata": {
        "id": "view-in-github",
        "colab_type": "text"
      },
      "source": [
        "<a href=\"https://colab.research.google.com/github/Meet200/-Algorithms-in-python/blob/master/Hierarchical_clustering_Fish_Market_ipynb_txt.ipynb\" target=\"_parent\"><img src=\"https://colab.research.google.com/assets/colab-badge.svg\" alt=\"Open In Colab\"/></a>"
      ]
    },
    {
      "cell_type": "code",
      "metadata": {
        "id": "7ZBb9I0czEou"
      },
      "source": [
        "import numpy as np\r\n",
        "import matplotlib.pyplot as plt\r\n",
        "import pandas as pd\r\n"
      ],
      "execution_count": 1,
      "outputs": []
    },
    {
      "cell_type": "code",
      "metadata": {
        "id": "Y3z61EoHzN8u"
      },
      "source": [
        "from google.colab import drive"
      ],
      "execution_count": 2,
      "outputs": []
    },
    {
      "cell_type": "code",
      "metadata": {
        "colab": {
          "base_uri": "https://localhost:8080/"
        },
        "id": "DiVOSVAszPin",
        "outputId": "1a0b4fad-ed6d-4ec7-a652-8aa53cc255fd"
      },
      "source": [
        "drive.mount('/content/drive')"
      ],
      "execution_count": 3,
      "outputs": [
        {
          "output_type": "stream",
          "text": [
            "Mounted at /content/drive\n"
          ],
          "name": "stdout"
        }
      ]
    },
    {
      "cell_type": "code",
      "metadata": {
        "colab": {
          "base_uri": "https://localhost:8080/"
        },
        "id": "zObT0F08zRKx",
        "outputId": "c5be4e2d-185e-4dab-dcc6-08698445f3c3"
      },
      "source": [
        "cd /content/drive/\"My Drive/Colab Notebooks/Linear regression\""
      ],
      "execution_count": 4,
      "outputs": [
        {
          "output_type": "stream",
          "text": [
            "/content/drive/My Drive/Colab Notebooks/Linear regression\n"
          ],
          "name": "stdout"
        }
      ]
    },
    {
      "cell_type": "code",
      "metadata": {
        "colab": {
          "base_uri": "https://localhost:8080/",
          "height": 424
        },
        "id": "fJG0yt280K0u",
        "outputId": "df77a883-d181-46bf-e309-1106e6d8e6db"
      },
      "source": [
        "dataset = pd.read_csv(\"Fish.csv\")\r\n",
        "dataset"
      ],
      "execution_count": 5,
      "outputs": [
        {
          "output_type": "execute_result",
          "data": {
            "text/html": [
              "<div>\n",
              "<style scoped>\n",
              "    .dataframe tbody tr th:only-of-type {\n",
              "        vertical-align: middle;\n",
              "    }\n",
              "\n",
              "    .dataframe tbody tr th {\n",
              "        vertical-align: top;\n",
              "    }\n",
              "\n",
              "    .dataframe thead th {\n",
              "        text-align: right;\n",
              "    }\n",
              "</style>\n",
              "<table border=\"1\" class=\"dataframe\">\n",
              "  <thead>\n",
              "    <tr style=\"text-align: right;\">\n",
              "      <th></th>\n",
              "      <th>Species</th>\n",
              "      <th>Weight</th>\n",
              "      <th>Length1</th>\n",
              "      <th>Length2</th>\n",
              "      <th>Length3</th>\n",
              "      <th>Height</th>\n",
              "      <th>Width</th>\n",
              "    </tr>\n",
              "  </thead>\n",
              "  <tbody>\n",
              "    <tr>\n",
              "      <th>0</th>\n",
              "      <td>Bream</td>\n",
              "      <td>242.0</td>\n",
              "      <td>23.2</td>\n",
              "      <td>25.4</td>\n",
              "      <td>30.0</td>\n",
              "      <td>11.5200</td>\n",
              "      <td>4.0200</td>\n",
              "    </tr>\n",
              "    <tr>\n",
              "      <th>1</th>\n",
              "      <td>Bream</td>\n",
              "      <td>290.0</td>\n",
              "      <td>24.0</td>\n",
              "      <td>26.3</td>\n",
              "      <td>31.2</td>\n",
              "      <td>12.4800</td>\n",
              "      <td>4.3056</td>\n",
              "    </tr>\n",
              "    <tr>\n",
              "      <th>2</th>\n",
              "      <td>Bream</td>\n",
              "      <td>340.0</td>\n",
              "      <td>23.9</td>\n",
              "      <td>26.5</td>\n",
              "      <td>31.1</td>\n",
              "      <td>12.3778</td>\n",
              "      <td>4.6961</td>\n",
              "    </tr>\n",
              "    <tr>\n",
              "      <th>3</th>\n",
              "      <td>Bream</td>\n",
              "      <td>363.0</td>\n",
              "      <td>26.3</td>\n",
              "      <td>29.0</td>\n",
              "      <td>33.5</td>\n",
              "      <td>12.7300</td>\n",
              "      <td>4.4555</td>\n",
              "    </tr>\n",
              "    <tr>\n",
              "      <th>4</th>\n",
              "      <td>Bream</td>\n",
              "      <td>430.0</td>\n",
              "      <td>26.5</td>\n",
              "      <td>29.0</td>\n",
              "      <td>34.0</td>\n",
              "      <td>12.4440</td>\n",
              "      <td>5.1340</td>\n",
              "    </tr>\n",
              "    <tr>\n",
              "      <th>...</th>\n",
              "      <td>...</td>\n",
              "      <td>...</td>\n",
              "      <td>...</td>\n",
              "      <td>...</td>\n",
              "      <td>...</td>\n",
              "      <td>...</td>\n",
              "      <td>...</td>\n",
              "    </tr>\n",
              "    <tr>\n",
              "      <th>154</th>\n",
              "      <td>Smelt</td>\n",
              "      <td>12.2</td>\n",
              "      <td>11.5</td>\n",
              "      <td>12.2</td>\n",
              "      <td>13.4</td>\n",
              "      <td>2.0904</td>\n",
              "      <td>1.3936</td>\n",
              "    </tr>\n",
              "    <tr>\n",
              "      <th>155</th>\n",
              "      <td>Smelt</td>\n",
              "      <td>13.4</td>\n",
              "      <td>11.7</td>\n",
              "      <td>12.4</td>\n",
              "      <td>13.5</td>\n",
              "      <td>2.4300</td>\n",
              "      <td>1.2690</td>\n",
              "    </tr>\n",
              "    <tr>\n",
              "      <th>156</th>\n",
              "      <td>Smelt</td>\n",
              "      <td>12.2</td>\n",
              "      <td>12.1</td>\n",
              "      <td>13.0</td>\n",
              "      <td>13.8</td>\n",
              "      <td>2.2770</td>\n",
              "      <td>1.2558</td>\n",
              "    </tr>\n",
              "    <tr>\n",
              "      <th>157</th>\n",
              "      <td>Smelt</td>\n",
              "      <td>19.7</td>\n",
              "      <td>13.2</td>\n",
              "      <td>14.3</td>\n",
              "      <td>15.2</td>\n",
              "      <td>2.8728</td>\n",
              "      <td>2.0672</td>\n",
              "    </tr>\n",
              "    <tr>\n",
              "      <th>158</th>\n",
              "      <td>Smelt</td>\n",
              "      <td>19.9</td>\n",
              "      <td>13.8</td>\n",
              "      <td>15.0</td>\n",
              "      <td>16.2</td>\n",
              "      <td>2.9322</td>\n",
              "      <td>1.8792</td>\n",
              "    </tr>\n",
              "  </tbody>\n",
              "</table>\n",
              "<p>159 rows × 7 columns</p>\n",
              "</div>"
            ],
            "text/plain": [
              "    Species  Weight  Length1  Length2  Length3   Height   Width\n",
              "0     Bream   242.0     23.2     25.4     30.0  11.5200  4.0200\n",
              "1     Bream   290.0     24.0     26.3     31.2  12.4800  4.3056\n",
              "2     Bream   340.0     23.9     26.5     31.1  12.3778  4.6961\n",
              "3     Bream   363.0     26.3     29.0     33.5  12.7300  4.4555\n",
              "4     Bream   430.0     26.5     29.0     34.0  12.4440  5.1340\n",
              "..      ...     ...      ...      ...      ...      ...     ...\n",
              "154   Smelt    12.2     11.5     12.2     13.4   2.0904  1.3936\n",
              "155   Smelt    13.4     11.7     12.4     13.5   2.4300  1.2690\n",
              "156   Smelt    12.2     12.1     13.0     13.8   2.2770  1.2558\n",
              "157   Smelt    19.7     13.2     14.3     15.2   2.8728  2.0672\n",
              "158   Smelt    19.9     13.8     15.0     16.2   2.9322  1.8792\n",
              "\n",
              "[159 rows x 7 columns]"
            ]
          },
          "metadata": {
            "tags": []
          },
          "execution_count": 5
        }
      ]
    },
    {
      "cell_type": "code",
      "metadata": {
        "colab": {
          "base_uri": "https://localhost:8080/"
        },
        "id": "BWe5hh-l2uT-",
        "outputId": "025fd305-81f6-41cf-8096-79536e7865e2"
      },
      "source": [
        "dataset.shape"
      ],
      "execution_count": 14,
      "outputs": [
        {
          "output_type": "execute_result",
          "data": {
            "text/plain": [
              "(159, 7)"
            ]
          },
          "metadata": {
            "tags": []
          },
          "execution_count": 14
        }
      ]
    },
    {
      "cell_type": "code",
      "metadata": {
        "id": "AT34qoTC25RI",
        "colab": {
          "base_uri": "https://localhost:8080/"
        },
        "outputId": "adb8996c-312a-4c06-a136-042b4c206de4"
      },
      "source": [
        "x = dataset.iloc[:,[1,2,3,4,5,6]].values\r\n",
        "x"
      ],
      "execution_count": 22,
      "outputs": [
        {
          "output_type": "execute_result",
          "data": {
            "text/plain": [
              "array([[2.42000e+02, 2.32000e+01, 2.54000e+01, 3.00000e+01, 1.15200e+01,\n",
              "        4.02000e+00],\n",
              "       [2.90000e+02, 2.40000e+01, 2.63000e+01, 3.12000e+01, 1.24800e+01,\n",
              "        4.30560e+00],\n",
              "       [3.40000e+02, 2.39000e+01, 2.65000e+01, 3.11000e+01, 1.23778e+01,\n",
              "        4.69610e+00],\n",
              "       [3.63000e+02, 2.63000e+01, 2.90000e+01, 3.35000e+01, 1.27300e+01,\n",
              "        4.45550e+00],\n",
              "       [4.30000e+02, 2.65000e+01, 2.90000e+01, 3.40000e+01, 1.24440e+01,\n",
              "        5.13400e+00],\n",
              "       [4.50000e+02, 2.68000e+01, 2.97000e+01, 3.47000e+01, 1.36024e+01,\n",
              "        4.92740e+00],\n",
              "       [5.00000e+02, 2.68000e+01, 2.97000e+01, 3.45000e+01, 1.41795e+01,\n",
              "        5.27850e+00],\n",
              "       [3.90000e+02, 2.76000e+01, 3.00000e+01, 3.50000e+01, 1.26700e+01,\n",
              "        4.69000e+00],\n",
              "       [4.50000e+02, 2.76000e+01, 3.00000e+01, 3.51000e+01, 1.40049e+01,\n",
              "        4.84380e+00],\n",
              "       [5.00000e+02, 2.85000e+01, 3.07000e+01, 3.62000e+01, 1.42266e+01,\n",
              "        4.95940e+00],\n",
              "       [4.75000e+02, 2.84000e+01, 3.10000e+01, 3.62000e+01, 1.42628e+01,\n",
              "        5.10420e+00],\n",
              "       [5.00000e+02, 2.87000e+01, 3.10000e+01, 3.62000e+01, 1.43714e+01,\n",
              "        4.81460e+00],\n",
              "       [5.00000e+02, 2.91000e+01, 3.15000e+01, 3.64000e+01, 1.37592e+01,\n",
              "        4.36800e+00],\n",
              "       [3.40000e+02, 2.95000e+01, 3.20000e+01, 3.73000e+01, 1.39129e+01,\n",
              "        5.07280e+00],\n",
              "       [6.00000e+02, 2.94000e+01, 3.20000e+01, 3.72000e+01, 1.49544e+01,\n",
              "        5.17080e+00],\n",
              "       [6.00000e+02, 2.94000e+01, 3.20000e+01, 3.72000e+01, 1.54380e+01,\n",
              "        5.58000e+00],\n",
              "       [7.00000e+02, 3.04000e+01, 3.30000e+01, 3.83000e+01, 1.48604e+01,\n",
              "        5.28540e+00],\n",
              "       [7.00000e+02, 3.04000e+01, 3.30000e+01, 3.85000e+01, 1.49380e+01,\n",
              "        5.19750e+00],\n",
              "       [6.10000e+02, 3.09000e+01, 3.35000e+01, 3.86000e+01, 1.56330e+01,\n",
              "        5.13380e+00],\n",
              "       [6.50000e+02, 3.10000e+01, 3.35000e+01, 3.87000e+01, 1.44738e+01,\n",
              "        5.72760e+00],\n",
              "       [5.75000e+02, 3.13000e+01, 3.40000e+01, 3.95000e+01, 1.51285e+01,\n",
              "        5.56950e+00],\n",
              "       [6.85000e+02, 3.14000e+01, 3.40000e+01, 3.92000e+01, 1.59936e+01,\n",
              "        5.37040e+00],\n",
              "       [6.20000e+02, 3.15000e+01, 3.45000e+01, 3.97000e+01, 1.55227e+01,\n",
              "        5.28010e+00],\n",
              "       [6.80000e+02, 3.18000e+01, 3.50000e+01, 4.06000e+01, 1.54686e+01,\n",
              "        6.13060e+00],\n",
              "       [7.00000e+02, 3.19000e+01, 3.50000e+01, 4.05000e+01, 1.62405e+01,\n",
              "        5.58900e+00],\n",
              "       [7.25000e+02, 3.18000e+01, 3.50000e+01, 4.09000e+01, 1.63600e+01,\n",
              "        6.05320e+00],\n",
              "       [7.20000e+02, 3.20000e+01, 3.50000e+01, 4.06000e+01, 1.63618e+01,\n",
              "        6.09000e+00],\n",
              "       [7.14000e+02, 3.27000e+01, 3.60000e+01, 4.15000e+01, 1.65170e+01,\n",
              "        5.85150e+00],\n",
              "       [8.50000e+02, 3.28000e+01, 3.60000e+01, 4.16000e+01, 1.68896e+01,\n",
              "        6.19840e+00],\n",
              "       [1.00000e+03, 3.35000e+01, 3.70000e+01, 4.26000e+01, 1.89570e+01,\n",
              "        6.60300e+00],\n",
              "       [9.20000e+02, 3.50000e+01, 3.85000e+01, 4.41000e+01, 1.80369e+01,\n",
              "        6.30630e+00],\n",
              "       [9.55000e+02, 3.50000e+01, 3.85000e+01, 4.40000e+01, 1.80840e+01,\n",
              "        6.29200e+00],\n",
              "       [9.25000e+02, 3.62000e+01, 3.95000e+01, 4.53000e+01, 1.87542e+01,\n",
              "        6.74970e+00],\n",
              "       [9.75000e+02, 3.74000e+01, 4.10000e+01, 4.59000e+01, 1.86354e+01,\n",
              "        6.74730e+00],\n",
              "       [9.50000e+02, 3.80000e+01, 4.10000e+01, 4.65000e+01, 1.76235e+01,\n",
              "        6.37050e+00],\n",
              "       [4.00000e+01, 1.29000e+01, 1.41000e+01, 1.62000e+01, 4.14720e+00,\n",
              "        2.26800e+00],\n",
              "       [6.90000e+01, 1.65000e+01, 1.82000e+01, 2.03000e+01, 5.29830e+00,\n",
              "        2.82170e+00],\n",
              "       [7.80000e+01, 1.75000e+01, 1.88000e+01, 2.12000e+01, 5.57560e+00,\n",
              "        2.90440e+00],\n",
              "       [8.70000e+01, 1.82000e+01, 1.98000e+01, 2.22000e+01, 5.61660e+00,\n",
              "        3.17460e+00],\n",
              "       [1.20000e+02, 1.86000e+01, 2.00000e+01, 2.22000e+01, 6.21600e+00,\n",
              "        3.57420e+00],\n",
              "       [0.00000e+00, 1.90000e+01, 2.05000e+01, 2.28000e+01, 6.47520e+00,\n",
              "        3.35160e+00],\n",
              "       [1.10000e+02, 1.91000e+01, 2.08000e+01, 2.31000e+01, 6.16770e+00,\n",
              "        3.39570e+00],\n",
              "       [1.20000e+02, 1.94000e+01, 2.10000e+01, 2.37000e+01, 6.11460e+00,\n",
              "        3.29430e+00],\n",
              "       [1.50000e+02, 2.04000e+01, 2.20000e+01, 2.47000e+01, 5.80450e+00,\n",
              "        3.75440e+00],\n",
              "       [1.45000e+02, 2.05000e+01, 2.20000e+01, 2.43000e+01, 6.63390e+00,\n",
              "        3.54780e+00],\n",
              "       [1.60000e+02, 2.05000e+01, 2.25000e+01, 2.53000e+01, 7.03340e+00,\n",
              "        3.82030e+00],\n",
              "       [1.40000e+02, 2.10000e+01, 2.25000e+01, 2.50000e+01, 6.55000e+00,\n",
              "        3.32500e+00],\n",
              "       [1.60000e+02, 2.11000e+01, 2.25000e+01, 2.50000e+01, 6.40000e+00,\n",
              "        3.80000e+00],\n",
              "       [1.69000e+02, 2.20000e+01, 2.40000e+01, 2.72000e+01, 7.53440e+00,\n",
              "        3.83520e+00],\n",
              "       [1.61000e+02, 2.20000e+01, 2.34000e+01, 2.67000e+01, 6.91530e+00,\n",
              "        3.63120e+00],\n",
              "       [2.00000e+02, 2.21000e+01, 2.35000e+01, 2.68000e+01, 7.39680e+00,\n",
              "        4.12720e+00],\n",
              "       [1.80000e+02, 2.36000e+01, 2.52000e+01, 2.79000e+01, 7.08660e+00,\n",
              "        3.90600e+00],\n",
              "       [2.90000e+02, 2.40000e+01, 2.60000e+01, 2.92000e+01, 8.87680e+00,\n",
              "        4.49680e+00],\n",
              "       [2.72000e+02, 2.50000e+01, 2.70000e+01, 3.06000e+01, 8.56800e+00,\n",
              "        4.77360e+00],\n",
              "       [3.90000e+02, 2.95000e+01, 3.17000e+01, 3.50000e+01, 9.48500e+00,\n",
              "        5.35500e+00],\n",
              "       [2.70000e+02, 2.36000e+01, 2.60000e+01, 2.87000e+01, 8.38040e+00,\n",
              "        4.24760e+00],\n",
              "       [2.70000e+02, 2.41000e+01, 2.65000e+01, 2.93000e+01, 8.14540e+00,\n",
              "        4.24850e+00],\n",
              "       [3.06000e+02, 2.56000e+01, 2.80000e+01, 3.08000e+01, 8.77800e+00,\n",
              "        4.68160e+00],\n",
              "       [5.40000e+02, 2.85000e+01, 3.10000e+01, 3.40000e+01, 1.07440e+01,\n",
              "        6.56200e+00],\n",
              "       [8.00000e+02, 3.37000e+01, 3.64000e+01, 3.96000e+01, 1.17612e+01,\n",
              "        6.57360e+00],\n",
              "       [1.00000e+03, 3.73000e+01, 4.00000e+01, 4.35000e+01, 1.23540e+01,\n",
              "        6.52500e+00],\n",
              "       [5.50000e+01, 1.35000e+01, 1.47000e+01, 1.65000e+01, 6.84750e+00,\n",
              "        2.32650e+00],\n",
              "       [6.00000e+01, 1.43000e+01, 1.55000e+01, 1.74000e+01, 6.57720e+00,\n",
              "        2.31420e+00],\n",
              "       [9.00000e+01, 1.63000e+01, 1.77000e+01, 1.98000e+01, 7.40520e+00,\n",
              "        2.67300e+00],\n",
              "       [1.20000e+02, 1.75000e+01, 1.90000e+01, 2.13000e+01, 8.39220e+00,\n",
              "        2.91810e+00],\n",
              "       [1.50000e+02, 1.84000e+01, 2.00000e+01, 2.24000e+01, 8.89280e+00,\n",
              "        3.29280e+00],\n",
              "       [1.40000e+02, 1.90000e+01, 2.07000e+01, 2.32000e+01, 8.53760e+00,\n",
              "        3.29440e+00],\n",
              "       [1.70000e+02, 1.90000e+01, 2.07000e+01, 2.32000e+01, 9.39600e+00,\n",
              "        3.41040e+00],\n",
              "       [1.45000e+02, 1.98000e+01, 2.15000e+01, 2.41000e+01, 9.73640e+00,\n",
              "        3.15710e+00],\n",
              "       [2.00000e+02, 2.12000e+01, 2.30000e+01, 2.58000e+01, 1.03458e+01,\n",
              "        3.66360e+00],\n",
              "       [2.73000e+02, 2.30000e+01, 2.50000e+01, 2.80000e+01, 1.10880e+01,\n",
              "        4.14400e+00],\n",
              "       [3.00000e+02, 2.40000e+01, 2.60000e+01, 2.90000e+01, 1.13680e+01,\n",
              "        4.23400e+00],\n",
              "       [5.90000e+00, 7.50000e+00, 8.40000e+00, 8.80000e+00, 2.11200e+00,\n",
              "        1.40800e+00],\n",
              "       [3.20000e+01, 1.25000e+01, 1.37000e+01, 1.47000e+01, 3.52800e+00,\n",
              "        1.99920e+00],\n",
              "       [4.00000e+01, 1.38000e+01, 1.50000e+01, 1.60000e+01, 3.82400e+00,\n",
              "        2.43200e+00],\n",
              "       [5.15000e+01, 1.50000e+01, 1.62000e+01, 1.72000e+01, 4.59240e+00,\n",
              "        2.63160e+00],\n",
              "       [7.00000e+01, 1.57000e+01, 1.74000e+01, 1.85000e+01, 4.58800e+00,\n",
              "        2.94150e+00],\n",
              "       [1.00000e+02, 1.62000e+01, 1.80000e+01, 1.92000e+01, 5.22240e+00,\n",
              "        3.32160e+00],\n",
              "       [7.80000e+01, 1.68000e+01, 1.87000e+01, 1.94000e+01, 5.19920e+00,\n",
              "        3.12340e+00],\n",
              "       [8.00000e+01, 1.72000e+01, 1.90000e+01, 2.02000e+01, 5.63580e+00,\n",
              "        3.05020e+00],\n",
              "       [8.50000e+01, 1.78000e+01, 1.96000e+01, 2.08000e+01, 5.13760e+00,\n",
              "        3.03680e+00],\n",
              "       [8.50000e+01, 1.82000e+01, 2.00000e+01, 2.10000e+01, 5.08200e+00,\n",
              "        2.77200e+00],\n",
              "       [1.10000e+02, 1.90000e+01, 2.10000e+01, 2.25000e+01, 5.69250e+00,\n",
              "        3.55500e+00],\n",
              "       [1.15000e+02, 1.90000e+01, 2.10000e+01, 2.25000e+01, 5.91750e+00,\n",
              "        3.30750e+00],\n",
              "       [1.25000e+02, 1.90000e+01, 2.10000e+01, 2.25000e+01, 5.69250e+00,\n",
              "        3.66750e+00],\n",
              "       [1.30000e+02, 1.93000e+01, 2.13000e+01, 2.28000e+01, 6.38400e+00,\n",
              "        3.53400e+00],\n",
              "       [1.20000e+02, 2.00000e+01, 2.20000e+01, 2.35000e+01, 6.11000e+00,\n",
              "        3.40750e+00],\n",
              "       [1.20000e+02, 2.00000e+01, 2.20000e+01, 2.35000e+01, 5.64000e+00,\n",
              "        3.52500e+00],\n",
              "       [1.30000e+02, 2.00000e+01, 2.20000e+01, 2.35000e+01, 6.11000e+00,\n",
              "        3.52500e+00],\n",
              "       [1.35000e+02, 2.00000e+01, 2.20000e+01, 2.35000e+01, 5.87500e+00,\n",
              "        3.52500e+00],\n",
              "       [1.10000e+02, 2.00000e+01, 2.20000e+01, 2.35000e+01, 5.52250e+00,\n",
              "        3.99500e+00],\n",
              "       [1.30000e+02, 2.05000e+01, 2.25000e+01, 2.40000e+01, 5.85600e+00,\n",
              "        3.62400e+00],\n",
              "       [1.50000e+02, 2.05000e+01, 2.25000e+01, 2.40000e+01, 6.79200e+00,\n",
              "        3.62400e+00],\n",
              "       [1.45000e+02, 2.07000e+01, 2.27000e+01, 2.42000e+01, 5.95320e+00,\n",
              "        3.63000e+00],\n",
              "       [1.50000e+02, 2.10000e+01, 2.30000e+01, 2.45000e+01, 5.21850e+00,\n",
              "        3.62600e+00],\n",
              "       [1.70000e+02, 2.15000e+01, 2.35000e+01, 2.50000e+01, 6.27500e+00,\n",
              "        3.72500e+00],\n",
              "       [2.25000e+02, 2.20000e+01, 2.40000e+01, 2.55000e+01, 7.29300e+00,\n",
              "        3.72300e+00],\n",
              "       [1.45000e+02, 2.20000e+01, 2.40000e+01, 2.55000e+01, 6.37500e+00,\n",
              "        3.82500e+00],\n",
              "       [1.88000e+02, 2.26000e+01, 2.46000e+01, 2.62000e+01, 6.73340e+00,\n",
              "        4.16580e+00],\n",
              "       [1.80000e+02, 2.30000e+01, 2.50000e+01, 2.65000e+01, 6.43950e+00,\n",
              "        3.68350e+00],\n",
              "       [1.97000e+02, 2.35000e+01, 2.56000e+01, 2.70000e+01, 6.56100e+00,\n",
              "        4.23900e+00],\n",
              "       [2.18000e+02, 2.50000e+01, 2.65000e+01, 2.80000e+01, 7.16800e+00,\n",
              "        4.14400e+00],\n",
              "       [3.00000e+02, 2.52000e+01, 2.73000e+01, 2.87000e+01, 8.32300e+00,\n",
              "        5.13730e+00],\n",
              "       [2.60000e+02, 2.54000e+01, 2.75000e+01, 2.89000e+01, 7.16720e+00,\n",
              "        4.33500e+00],\n",
              "       [2.65000e+02, 2.54000e+01, 2.75000e+01, 2.89000e+01, 7.05160e+00,\n",
              "        4.33500e+00],\n",
              "       [2.50000e+02, 2.54000e+01, 2.75000e+01, 2.89000e+01, 7.28280e+00,\n",
              "        4.56620e+00],\n",
              "       [2.50000e+02, 2.59000e+01, 2.80000e+01, 2.94000e+01, 7.82040e+00,\n",
              "        4.20420e+00],\n",
              "       [3.00000e+02, 2.69000e+01, 2.87000e+01, 3.01000e+01, 7.58520e+00,\n",
              "        4.63540e+00],\n",
              "       [3.20000e+02, 2.78000e+01, 3.00000e+01, 3.16000e+01, 7.61560e+00,\n",
              "        4.77160e+00],\n",
              "       [5.14000e+02, 3.05000e+01, 3.28000e+01, 3.40000e+01, 1.00300e+01,\n",
              "        6.01800e+00],\n",
              "       [5.56000e+02, 3.20000e+01, 3.45000e+01, 3.65000e+01, 1.02565e+01,\n",
              "        6.38750e+00],\n",
              "       [8.40000e+02, 3.25000e+01, 3.50000e+01, 3.73000e+01, 1.14884e+01,\n",
              "        7.79570e+00],\n",
              "       [6.85000e+02, 3.40000e+01, 3.65000e+01, 3.90000e+01, 1.08810e+01,\n",
              "        6.86400e+00],\n",
              "       [7.00000e+02, 3.40000e+01, 3.60000e+01, 3.83000e+01, 1.06091e+01,\n",
              "        6.74080e+00],\n",
              "       [7.00000e+02, 3.45000e+01, 3.70000e+01, 3.94000e+01, 1.08350e+01,\n",
              "        6.26460e+00],\n",
              "       [6.90000e+02, 3.46000e+01, 3.70000e+01, 3.93000e+01, 1.05717e+01,\n",
              "        6.36660e+00],\n",
              "       [9.00000e+02, 3.65000e+01, 3.90000e+01, 4.14000e+01, 1.11366e+01,\n",
              "        7.49340e+00],\n",
              "       [6.50000e+02, 3.65000e+01, 3.90000e+01, 4.14000e+01, 1.11366e+01,\n",
              "        6.00300e+00],\n",
              "       [8.20000e+02, 3.66000e+01, 3.90000e+01, 4.13000e+01, 1.24313e+01,\n",
              "        7.35140e+00],\n",
              "       [8.50000e+02, 3.69000e+01, 4.00000e+01, 4.23000e+01, 1.19286e+01,\n",
              "        7.10640e+00],\n",
              "       [9.00000e+02, 3.70000e+01, 4.00000e+01, 4.25000e+01, 1.17300e+01,\n",
              "        7.22500e+00],\n",
              "       [1.01500e+03, 3.70000e+01, 4.00000e+01, 4.24000e+01, 1.23808e+01,\n",
              "        7.46240e+00],\n",
              "       [8.20000e+02, 3.71000e+01, 4.00000e+01, 4.25000e+01, 1.11350e+01,\n",
              "        6.63000e+00],\n",
              "       [1.10000e+03, 3.90000e+01, 4.20000e+01, 4.46000e+01, 1.28002e+01,\n",
              "        6.86840e+00],\n",
              "       [1.00000e+03, 3.98000e+01, 4.30000e+01, 4.52000e+01, 1.19328e+01,\n",
              "        7.27720e+00],\n",
              "       [1.10000e+03, 4.01000e+01, 4.30000e+01, 4.55000e+01, 1.25125e+01,\n",
              "        7.41650e+00],\n",
              "       [1.00000e+03, 4.02000e+01, 4.35000e+01, 4.60000e+01, 1.26040e+01,\n",
              "        8.14200e+00],\n",
              "       [1.00000e+03, 4.11000e+01, 4.40000e+01, 4.66000e+01, 1.24888e+01,\n",
              "        7.59580e+00],\n",
              "       [2.00000e+02, 3.00000e+01, 3.23000e+01, 3.48000e+01, 5.56800e+00,\n",
              "        3.37560e+00],\n",
              "       [3.00000e+02, 3.17000e+01, 3.40000e+01, 3.78000e+01, 5.70780e+00,\n",
              "        4.15800e+00],\n",
              "       [3.00000e+02, 3.27000e+01, 3.50000e+01, 3.88000e+01, 5.93640e+00,\n",
              "        4.38440e+00],\n",
              "       [3.00000e+02, 3.48000e+01, 3.73000e+01, 3.98000e+01, 6.28840e+00,\n",
              "        4.01980e+00],\n",
              "       [4.30000e+02, 3.55000e+01, 3.80000e+01, 4.05000e+01, 7.29000e+00,\n",
              "        4.57650e+00],\n",
              "       [3.45000e+02, 3.60000e+01, 3.85000e+01, 4.10000e+01, 6.39600e+00,\n",
              "        3.97700e+00],\n",
              "       [4.56000e+02, 4.00000e+01, 4.25000e+01, 4.55000e+01, 7.28000e+00,\n",
              "        4.32250e+00],\n",
              "       [5.10000e+02, 4.00000e+01, 4.25000e+01, 4.55000e+01, 6.82500e+00,\n",
              "        4.45900e+00],\n",
              "       [5.40000e+02, 4.01000e+01, 4.30000e+01, 4.58000e+01, 7.78600e+00,\n",
              "        5.12960e+00],\n",
              "       [5.00000e+02, 4.20000e+01, 4.50000e+01, 4.80000e+01, 6.96000e+00,\n",
              "        4.89600e+00],\n",
              "       [5.67000e+02, 4.32000e+01, 4.60000e+01, 4.87000e+01, 7.79200e+00,\n",
              "        4.87000e+00],\n",
              "       [7.70000e+02, 4.48000e+01, 4.80000e+01, 5.12000e+01, 7.68000e+00,\n",
              "        5.37600e+00],\n",
              "       [9.50000e+02, 4.83000e+01, 5.17000e+01, 5.51000e+01, 8.92620e+00,\n",
              "        6.17120e+00],\n",
              "       [1.25000e+03, 5.20000e+01, 5.60000e+01, 5.97000e+01, 1.06863e+01,\n",
              "        6.98490e+00],\n",
              "       [1.60000e+03, 5.60000e+01, 6.00000e+01, 6.40000e+01, 9.60000e+00,\n",
              "        6.14400e+00],\n",
              "       [1.55000e+03, 5.60000e+01, 6.00000e+01, 6.40000e+01, 9.60000e+00,\n",
              "        6.14400e+00],\n",
              "       [1.65000e+03, 5.90000e+01, 6.34000e+01, 6.80000e+01, 1.08120e+01,\n",
              "        7.48000e+00],\n",
              "       [6.70000e+00, 9.30000e+00, 9.80000e+00, 1.08000e+01, 1.73880e+00,\n",
              "        1.04760e+00],\n",
              "       [7.50000e+00, 1.00000e+01, 1.05000e+01, 1.16000e+01, 1.97200e+00,\n",
              "        1.16000e+00],\n",
              "       [7.00000e+00, 1.01000e+01, 1.06000e+01, 1.16000e+01, 1.72840e+00,\n",
              "        1.14840e+00],\n",
              "       [9.70000e+00, 1.04000e+01, 1.10000e+01, 1.20000e+01, 2.19600e+00,\n",
              "        1.38000e+00],\n",
              "       [9.80000e+00, 1.07000e+01, 1.12000e+01, 1.24000e+01, 2.08320e+00,\n",
              "        1.27720e+00],\n",
              "       [8.70000e+00, 1.08000e+01, 1.13000e+01, 1.26000e+01, 1.97820e+00,\n",
              "        1.28520e+00],\n",
              "       [1.00000e+01, 1.13000e+01, 1.18000e+01, 1.31000e+01, 2.21390e+00,\n",
              "        1.28380e+00],\n",
              "       [9.90000e+00, 1.13000e+01, 1.18000e+01, 1.31000e+01, 2.21390e+00,\n",
              "        1.16590e+00],\n",
              "       [9.80000e+00, 1.14000e+01, 1.20000e+01, 1.32000e+01, 2.20440e+00,\n",
              "        1.14840e+00],\n",
              "       [1.22000e+01, 1.15000e+01, 1.22000e+01, 1.34000e+01, 2.09040e+00,\n",
              "        1.39360e+00],\n",
              "       [1.34000e+01, 1.17000e+01, 1.24000e+01, 1.35000e+01, 2.43000e+00,\n",
              "        1.26900e+00],\n",
              "       [1.22000e+01, 1.21000e+01, 1.30000e+01, 1.38000e+01, 2.27700e+00,\n",
              "        1.25580e+00],\n",
              "       [1.97000e+01, 1.32000e+01, 1.43000e+01, 1.52000e+01, 2.87280e+00,\n",
              "        2.06720e+00],\n",
              "       [1.99000e+01, 1.38000e+01, 1.50000e+01, 1.62000e+01, 2.93220e+00,\n",
              "        1.87920e+00]])"
            ]
          },
          "metadata": {
            "tags": []
          },
          "execution_count": 22
        }
      ]
    },
    {
      "cell_type": "code",
      "metadata": {
        "colab": {
          "base_uri": "https://localhost:8080/"
        },
        "id": "qXmnp_vs6nxp",
        "outputId": "f416df36-943f-4dc9-bc70-ac3e940ef7a6"
      },
      "source": [
        "x.shape"
      ],
      "execution_count": 23,
      "outputs": [
        {
          "output_type": "execute_result",
          "data": {
            "text/plain": [
              "(159, 6)"
            ]
          },
          "metadata": {
            "tags": []
          },
          "execution_count": 23
        }
      ]
    },
    {
      "cell_type": "markdown",
      "metadata": {
        "id": "1iK1xzjh67mz"
      },
      "source": [
        "\r\n",
        "\r\n",
        "*   List item\r\n",
        "*   List item\r\n",
        "\r\n"
      ]
    },
    {
      "cell_type": "code",
      "metadata": {
        "id": "yclvZSr06q2s"
      },
      "source": [
        "import scipy.cluster.hierarchy as sch\r\n"
      ],
      "execution_count": 24,
      "outputs": []
    },
    {
      "cell_type": "code",
      "metadata": {
        "colab": {
          "base_uri": "https://localhost:8080/",
          "height": 265
        },
        "id": "u-j33xUD63ek",
        "outputId": "0f3e1836-8b96-44b1-dc05-ff6ed268e338"
      },
      "source": [
        "dendrogram = sch.dendrogram(sch.linkage(x,method='ward'))"
      ],
      "execution_count": 25,
      "outputs": [
        {
          "output_type": "display_data",
          "data": {
            "image/png": "[encoded data removed]",
            "text/plain": [
              "<Figure size 432x288 with 1 Axes>"
            ]
          },
          "metadata": {
            "tags": [],
            "needs_background": "light"
          }
        }
      ]
    },
    {
      "cell_type": "code",
      "metadata": {
        "id": "TYi8Xpnq8IjE"
      },
      "source": [
        "from sklearn.cluster import AgglomerativeClustering"
      ],
      "execution_count": 26,
      "outputs": []
    },
    {
      "cell_type": "code",
      "metadata": {
        "id": "iaGGH0UT-QSt"
      },
      "source": [
        "hc=AgglomerativeClustering(n_clusters=7)"
      ],
      "execution_count": 28,
      "outputs": []
    },
    {
      "cell_type": "code",
      "metadata": {
        "colab": {
          "base_uri": "https://localhost:8080/"
        },
        "id": "6Kd_aVnx-7iB",
        "outputId": "9062cdfc-f998-4896-9d4d-3701d8331191"
      },
      "source": [
        "y_hc=hc.fit_predict(x)\r\n",
        "y_hc"
      ],
      "execution_count": 29,
      "outputs": [
        {
          "output_type": "execute_result",
          "data": {
            "text/plain": [
              "array([5, 5, 2, 2, 2, 2, 2, 2, 2, 2, 2, 2, 2, 2, 0, 0, 0, 0, 0, 0, 2, 0,\n",
              "       0, 0, 0, 0, 0, 0, 0, 1, 1, 1, 1, 1, 1, 4, 4, 4, 4, 6, 4, 6, 6, 6,\n",
              "       6, 6, 6, 6, 6, 6, 6, 6, 5, 5, 2, 5, 5, 5, 2, 0, 1, 4, 4, 4, 6, 6,\n",
              "       6, 6, 6, 6, 5, 5, 4, 4, 4, 4, 4, 6, 4, 4, 4, 4, 6, 6, 6, 6, 6, 6,\n",
              "       6, 6, 6, 6, 6, 6, 6, 6, 5, 6, 6, 6, 6, 5, 5, 5, 5, 5, 5, 5, 5, 2,\n",
              "       2, 0, 0, 0, 0, 0, 1, 0, 0, 0, 1, 1, 0, 1, 1, 1, 1, 1, 6, 5, 5, 5,\n",
              "       2, 2, 2, 2, 2, 2, 2, 0, 1, 1, 3, 3, 3, 4, 4, 4, 4, 4, 4, 4, 4, 4,\n",
              "       4, 4, 4, 4, 4])"
            ]
          },
          "metadata": {
            "tags": []
          },
          "execution_count": 29
        }
      ]
    },
    {
      "cell_type": "code",
      "metadata": {
        "colab": {
          "base_uri": "https://localhost:8080/",
          "height": 313
        },
        "id": "kZzKi8mf_S6d",
        "outputId": "52f99c2f-8456-49b3-c009-3b0d26ddc4fd"
      },
      "source": [
        "# cluster visulization\r\n",
        "plt.scatter(x[y_hc==0,0],x[y_hc==0,1],c='red',label='cluster1')\r\n",
        "plt.scatter(x[y_hc==1,0],x[y_hc==1,1],c='blue',label='cluster2')\r\n",
        "plt.scatter(x[y_hc==2,0],x[y_hc==2,1],c='green',label='cluster3')\r\n",
        "plt.scatter(x[y_hc==3,0],x[y_hc==3,1],c='yellow',label='cluster4')\r\n",
        "plt.scatter(x[y_hc==4,0],x[y_hc==4,1],c='magenta',label='cluster5')\r\n",
        "plt.scatter(x[y_hc==5,0],x[y_hc==5,1],c='black',label='cluster6')\r\n",
        "plt.scatter(x[y_hc==6,0],x[y_hc==6,1],c='orange',label='cluster7')\r\n",
        "plt.title('Hierarchical')\r\n",
        "plt.xlabel('Annual income')\r\n",
        "plt.ylabel('Spending')\r\n",
        "plt.legend()"
      ],
      "execution_count": 31,
      "outputs": [
        {
          "output_type": "execute_result",
          "data": {
            "text/plain": [
              "<matplotlib.legend.Legend at 0x7fb5dc8d7690>"
            ]
          },
          "metadata": {
            "tags": []
          },
          "execution_count": 31
        },
        {
          "output_type": "display_data",
          "data": {
            "image/png": "[encoded data removed]",
            "text/plain": [
              "<Figure size 432x288 with 1 Axes>"
            ]
          },
          "metadata": {
            "tags": [],
            "needs_background": "light"
          }
        }
      ]
    },
    {
      "cell_type": "code",
      "metadata": {
        "id": "4waCZlzpAyPd"
      },
      "source": [
        "from sklearn.cluster import KMeans"
      ],
      "execution_count": 32,
      "outputs": []
    },
    {
      "cell_type": "code",
      "metadata": {
        "colab": {
          "base_uri": "https://localhost:8080/",
          "height": 294
        },
        "id": "fkzdHm4HBO6s",
        "outputId": "07867f46-e0d4-4eb3-d036-cb2790c5ae92"
      },
      "source": [
        "wcss = []\r\n",
        "for i in range(1,10):\r\n",
        "  kmean=KMeans(n_clusters=i,init='k-means++',random_state=0)\r\n",
        "  kmean.fit_predict(x)\r\n",
        "  wcss.append(kmean.inertia_)\r\n",
        "plt.plot(range(1,10),wcss)"
      ],
      "execution_count": 38,
      "outputs": [
        {
          "output_type": "execute_result",
          "data": {
            "text/plain": [
              "[<matplotlib.lines.Line2D at 0x7fb5dc5423d0>]"
            ]
          },
          "metadata": {
            "tags": []
          },
          "execution_count": 38
        },
        {
          "output_type": "display_data",
          "data": {
            "image/png": "[encoded data removed]",
            "text/plain": [
              "<Figure size 432x288 with 1 Axes>"
            ]
          },
          "metadata": {
            "tags": [],
            "needs_background": "light"
          }
        }
      ]
    },
    {
      "cell_type": "code",
      "metadata": {
        "id": "USZEXZ4cEcoP"
      },
      "source": [
        "kmean=KMeans(n_clusters=7,init='k-means++',random_state=0)\r\n",
        "y_kmeans=kmean.fit_predict(x)"
      ],
      "execution_count": 39,
      "outputs": []
    },
    {
      "cell_type": "code",
      "metadata": {
        "colab": {
          "base_uri": "https://localhost:8080/",
          "height": 313
        },
        "id": "qS95ncCLEobN",
        "outputId": "312a02ad-3c1f-4de4-b8b9-0174ada660ae"
      },
      "source": [
        "# cluster visulization\r\n",
        "plt.scatter(x[y_kmeans==0,0],x[y_kmeans==0,1],c='red',label='cluster1')\r\n",
        "plt.scatter(x[y_kmeans==1,0],x[y_kmeans==1,1],c='blue',label='cluster2')\r\n",
        "plt.scatter(x[y_kmeans==2,0],x[y_kmeans==2,1],c='green',label='cluster3')\r\n",
        "plt.scatter(x[y_kmeans==3,0],x[y_kmeans==3,1],c='yellow',label='cluster4')\r\n",
        "plt.scatter(x[y_kmeans==4,0],x[y_kmeans==4,1],c='magenta',label='cluster5')\r\n",
        "plt.scatter(x[y_kmeans==5,0],x[y_kmeans==5,1],c='red',label='cluster6')\r\n",
        "plt.scatter(x[y_kmeans==6,0],x[y_kmeans==6,1],c='orange',label='cluster7')\r\n",
        "plt.scatter(kmean.cluster_centers_[:, 0], kmean.cluster_centers_[:, 1], s = 100, c = 'black', label = 'Centroids')\r\n",
        "plt.title('K-Means')\r\n",
        "plt.xlabel('Annual income')\r\n",
        "plt.ylabel('Spending')\r\n",
        "plt.legend()"
      ],
      "execution_count": 41,
      "outputs": [
        {
          "output_type": "execute_result",
          "data": {
            "text/plain": [
              "<matplotlib.legend.Legend at 0x7fb5dc418e10>"
            ]
          },
          "metadata": {
            "tags": []
          },
          "execution_count": 41
        },
        {
          "output_type": "display_data",
          "data": {
            "image/png": "[encoded data removed]",
            "text/plain": [
              "<Figure size 432x288 with 1 Axes>"
            ]
          },
          "metadata": {
            "tags": [],
            "needs_background": "light"
          }
        }
      ]
    }
  ]
}